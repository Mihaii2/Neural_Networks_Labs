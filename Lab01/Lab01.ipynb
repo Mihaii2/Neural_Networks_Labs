{
 "cells": [
  {
   "cell_type": "code",
   "id": "initial_id",
   "metadata": {
    "collapsed": true,
    "ExecuteTime": {
     "end_time": "2024-10-11T07:15:52.391386Z",
     "start_time": "2024-10-11T07:15:52.366900Z"
    }
   },
   "source": [
    "from mpmath import sqrtm\n",
    "from mpmath.math2 import sqrt2\n",
    "\n",
    "file_path = './input.txt'\n",
    "\n",
    "A = [[],[],[]]\n",
    "B = []\n",
    "\n",
    "def digit_from_string(string, sign):\n",
    "    if len(string) == 0:\n",
    "        return 0\n",
    "    if len(string) == 1:\n",
    "        nr = 1\n",
    "    else: \n",
    "        nr = string[:-1]\n",
    "    \n",
    "    if sign == '-':\n",
    "        nr = -nr\n",
    "    return int(nr)\n",
    "\n",
    "with open(file_path, 'r') as file:\n",
    "    for i, line in enumerate(file):\n",
    "        nrs = line.strip().split(' ')\n",
    "        \n",
    "        A[i].append(digit_from_string(nrs[0], nrs[0][0]))\n",
    "        A[i].append(digit_from_string(nrs[2], nrs[1]))\n",
    "        A[i].append(digit_from_string(nrs[4], nrs[3]))\n",
    "        \n",
    "        B.append(int(nrs[6]))\n",
    "        \n",
    "print(A)\n",
    "print(B)"
   ],
   "outputs": [
    {
     "name": "stdout",
     "output_type": "stream",
     "text": [
      "[[2, 3, -1], [1, -1, 4], [3, 1, 2]]\n",
      "[5, 6, 7]\n"
     ]
    }
   ],
   "execution_count": 123
  },
  {
   "metadata": {
    "ExecuteTime": {
     "end_time": "2024-10-11T11:09:11.269672Z",
     "start_time": "2024-10-11T11:09:11.253451Z"
    }
   },
   "cell_type": "code",
   "source": [
    "import copy\n",
    "\n",
    "def determinant(a):\n",
    "    return a[0][0] * (a[1][1]*a[2][2] - a[1][2]*a[2][1]) - a[0][1] * (a[1][0]*a[2][2] - a[1][2]*a[2][0]) + a[0][2] * (a[1][0]*a[2][1] - a[1][1]*a[2][0])\n",
    "\n",
    "def trace(a):\n",
    "    return a[0][0] + a[1][1] + a[2][2]\n",
    "\n",
    "def norm(b):\n",
    "    return (b[0] ** 2 + b[1] ** 2 + b[2] ** 2) ** 0.5\n",
    "\n",
    "def transpose(matrix):\n",
    "    a = copy.deepcopy(matrix)\n",
    "    for i in range(3):\n",
    "        for j in range(i + 1):\n",
    "            aux = a[i][j]\n",
    "            a[i][j] = a[j][i]\n",
    "            a[j][i] = aux\n",
    "    return a\n",
    "\n",
    "def matrix_vector_multiply(matrix, vector):\n",
    "    if len(matrix) != 3 or len(matrix[0]) != 3 or len(vector) != 3:\n",
    "        raise ValueError(\"Matrix must be 3x3 and vector must have 3 elements\")\n",
    "    \n",
    "    result = [0, 0, 0]\n",
    "    for i in range(3):\n",
    "        for j in range(3):\n",
    "            result[i] += matrix[i][j] * vector[j]\n",
    "    \n",
    "    return result\n",
    "\n",
    "def cofactor_matrix(a):\n",
    "    def minor(matrix, i, j):\n",
    "        return [col[:j] + col[j+1:] for col in (matrix[:i]) + matrix[i+1:]]\n",
    "\n",
    "    def determinant_2x2(matrix):\n",
    "        return matrix[0][0] * matrix[1][1] - matrix[0][1] * matrix[1][0]\n",
    "\n",
    "    cofactors = []\n",
    "    for i in range(3):\n",
    "        cofactor_row = []\n",
    "        for j in range(3):\n",
    "            minor_matrix = minor(a, i, j)\n",
    "            cofactor = ((-1) ** (i + j)) * determinant_2x2(minor_matrix)\n",
    "            cofactor_row.append(cofactor)\n",
    "        cofactors.append(cofactor_row)\n",
    "    \n",
    "    return cofactors\n",
    "\n",
    "def adjugate_matrix(matrix):\n",
    "    return transpose(cofactor_matrix(matrix))\n",
    "\n",
    "def inverse_matrix(a):\n",
    "    det_inverse = 1 / determinant(a)\n",
    "    adj_matrix = adjugate_matrix(a)\n",
    "    inv_matrix = [[element * det_inverse for element in row] for row in adj_matrix]\n",
    "    \n",
    "    return inv_matrix"
   ],
   "id": "7d471dd5b17dccae",
   "outputs": [],
   "execution_count": 142
  },
  {
   "metadata": {
    "ExecuteTime": {
     "end_time": "2024-10-11T11:11:37.453390Z",
     "start_time": "2024-10-11T11:11:37.445697Z"
    }
   },
   "cell_type": "code",
   "source": [
    "def cramer_rule(a, b):\n",
    "    n = len(a)\n",
    "    D = determinant(a)\n",
    "    \n",
    "    if D == 0:\n",
    "        return None  # The system has no unique solution\n",
    "    \n",
    "    solutions = []\n",
    "    for i in range(n):\n",
    "        # Create a copy of the coefficient matrix\n",
    "        temp_matrix = [row[:] for row in a]\n",
    "        \n",
    "        # Replace the i-th column with the constants\n",
    "        for j in range(n):\n",
    "            temp_matrix[j][i] = b[j]\n",
    "        \n",
    "        # Calculate the determinant of the modified matrix\n",
    "        Di = determinant(temp_matrix)\n",
    "        \n",
    "        # Calculate the solution for the i-th variable\n",
    "        xi = Di / D\n",
    "        solutions.append(xi)\n",
    "    \n",
    "    return solutions\n",
    "\n",
    "print(cramer_rule(A, B))"
   ],
   "id": "25b2de07bab0a903",
   "outputs": [
    {
     "name": "stdout",
     "output_type": "stream",
     "text": [
      "[0.35714285714285715, 2.0714285714285716, 1.9285714285714286]\n"
     ]
    }
   ],
   "execution_count": 146
  },
  {
   "metadata": {
    "ExecuteTime": {
     "end_time": "2024-10-11T11:11:39.303763Z",
     "start_time": "2024-10-11T11:11:39.298019Z"
    }
   },
   "cell_type": "code",
   "source": [
    "def solve_system(a, b):\n",
    "    return matrix_vector_multiply(inverse_matrix(a), b)\n",
    "    \n",
    "print(solve_system(A, B))"
   ],
   "id": "72a7afcf1562aaf5",
   "outputs": [
    {
     "name": "stdout",
     "output_type": "stream",
     "text": [
      "[0.35714285714285765, 2.071428571428571, 1.9285714285714293]\n"
     ]
    }
   ],
   "execution_count": 147
  },
  {
   "metadata": {},
   "cell_type": "markdown",
   "source": [
    "#### Bonus: Can you see any similarities between the cofactor and the provided formula for the determinant of the matrix A?\n",
    "\n",
    "1. In the determinant formula, we see alternating signs: +, -, +. This corresponds to the (-1)^(i+j) term in the cofactor definition.\n",
    "\n",
    "2. The 2x2 determinants in the formula (e.g., a22a33 - a23a32) are actually the minors of the corresponding elements in the first row. This relates directly to the det(Mij) part in the cofactor definition.\n",
    "\n",
    "3. Each term is an element from the first row multiplied by its cofactor."
   ],
   "id": "12a90772b871d184"
  }
 ],
 "metadata": {
  "kernelspec": {
   "display_name": "Python 3",
   "language": "python",
   "name": "python3"
  },
  "language_info": {
   "codemirror_mode": {
    "name": "ipython",
    "version": 2
   },
   "file_extension": ".py",
   "mimetype": "text/x-python",
   "name": "python",
   "nbconvert_exporter": "python",
   "pygments_lexer": "ipython2",
   "version": "2.7.6"
  }
 },
 "nbformat": 4,
 "nbformat_minor": 5
}
